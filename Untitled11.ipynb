{
  "nbformat": 4,
  "nbformat_minor": 0,
  "metadata": {
    "colab": {
      "provenance": []
    },
    "kernelspec": {
      "name": "python3",
      "display_name": "Python 3"
    },
    "language_info": {
      "name": "python"
    }
  },
  "cells": [
    {
      "cell_type": "code",
      "execution_count": null,
      "metadata": {
        "colab": {
          "base_uri": "https://localhost:8080/"
        },
        "id": "IOiN9cTdpRUT",
        "outputId": "0fcae289-50f9-48fb-ddff-dc4ed4550b44"
      },
      "outputs": [
        {
          "output_type": "stream",
          "name": "stdout",
          "text": [
            "9\n"
          ]
        }
      ],
      "source": [
        "print(19//2)"
      ]
    },
    {
      "cell_type": "code",
      "source": [
        "#Arithmatic operator\n",
        "# + - * / % // **"
      ],
      "metadata": {
        "id": "InVCaQerptkI"
      },
      "execution_count": null,
      "outputs": []
    },
    {
      "cell_type": "code",
      "source": [
        "age = int(input(\"enter your age\"))\n",
        "print(age!=18)"
      ],
      "metadata": {
        "colab": {
          "base_uri": "https://localhost:8080/"
        },
        "id": "kg5uDI3cqDD3",
        "outputId": "6c0f412f-4f04-450b-8af8-5c33ef482972"
      },
      "execution_count": null,
      "outputs": [
        {
          "output_type": "stream",
          "name": "stdout",
          "text": [
            "enter your age19\n",
            "True\n"
          ]
        }
      ]
    },
    {
      "cell_type": "code",
      "source": [
        "#comparison operator\n",
        "# <\n",
        "# >\n",
        "# <=\n",
        "# >=\n",
        "# ==\n",
        "# !="
      ],
      "metadata": {
        "id": "TvH9RA78qbrT"
      },
      "execution_count": null,
      "outputs": []
    },
    {
      "cell_type": "code",
      "source": [
        "#Assignment Operator\n",
        "# =\n",
        "# +=\n",
        "# -=\n",
        "# *=\n",
        "# /=\n",
        "# %=\n",
        "# //=\n",
        "# **="
      ],
      "metadata": {
        "id": "3Wv0DoQustLv"
      },
      "execution_count": null,
      "outputs": []
    },
    {
      "cell_type": "code",
      "source": [
        "a = 10\n",
        "b = int(input(\"enter your number\"))\n",
        "a //= b # a = a // b\n",
        "print(a)"
      ],
      "metadata": {
        "colab": {
          "base_uri": "https://localhost:8080/"
        },
        "id": "NMOxcjbitHQw",
        "outputId": "2604bbcf-ce41-4b89-af4c-07442dd72cc5"
      },
      "execution_count": null,
      "outputs": [
        {
          "output_type": "stream",
          "name": "stdout",
          "text": [
            "enter your number3\n",
            "3\n"
          ]
        }
      ]
    },
    {
      "cell_type": "code",
      "source": [
        "print(id(a))\n",
        "print(id(b))"
      ],
      "metadata": {
        "colab": {
          "base_uri": "https://localhost:8080/"
        },
        "id": "OIFG_XLLu_jP",
        "outputId": "03d12a05-3c54-4d1a-93f9-c3e5fd71dd6e"
      },
      "execution_count": null,
      "outputs": [
        {
          "output_type": "stream",
          "name": "stdout",
          "text": [
            "139065713967408\n",
            "139065713967408\n"
          ]
        }
      ]
    },
    {
      "cell_type": "code",
      "source": [
        "var1 = 10;\n",
        "var2 = 20 ;\n",
        "print(id(var1))\n",
        "print(id(var2))\n",
        "\n",
        "var1 = var2\n",
        "\n",
        "print(var1)\n",
        "print(var2)"
      ],
      "metadata": {
        "colab": {
          "base_uri": "https://localhost:8080/"
        },
        "id": "yemQ2j9SyC9g",
        "outputId": "12aaf84b-3167-4001-9886-bb69edf27925"
      },
      "execution_count": null,
      "outputs": [
        {
          "output_type": "stream",
          "name": "stdout",
          "text": [
            "139065713967632\n",
            "139065713967952\n",
            "20\n",
            "20\n"
          ]
        }
      ]
    },
    {
      "cell_type": "code",
      "source": [
        "var3 = 10\n",
        "var4 = 10\n",
        "\n",
        "print(id(var3))\n",
        "print(id(var4))\n",
        "print(id(var1))"
      ],
      "metadata": {
        "colab": {
          "base_uri": "https://localhost:8080/"
        },
        "id": "ORHwfhO2z5vl",
        "outputId": "f395f69d-c43b-49d6-e92d-fcb90cd5a55a"
      },
      "execution_count": null,
      "outputs": [
        {
          "output_type": "stream",
          "name": "stdout",
          "text": [
            "139065713967632\n",
            "139065713967632\n",
            "139065713967952\n"
          ]
        }
      ]
    }
  ]
}